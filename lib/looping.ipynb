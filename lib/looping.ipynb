{
 "cells": [
  {
   "cell_type": "markdown",
   "metadata": {},
   "source": [
    "# Control Flow: Loops\n",
    "\n",
    "## Learning Goals\n",
    "\n",
    "- Write basic loops with the `for` and `while` constructs.\n",
    "- Use generator and list comprehensions to accomplish complex tasks quickly.\n",
    "\n",
    "***\n",
    "\n",
    "## Key Vocab\n",
    "\n",
    "- **Interpreter**: a program that executes other programs. Python programs\n",
    "require the Python interpreter to be installed on your computer so that they\n",
    "can be run.\n",
    "- **Python Shell**: an interactive interpreter that can be accessed from the\n",
    "command line.\n",
    "- **Data Type**: a specific kind of data. The Python interpreter uses these\n",
    "types to determine which actions can be performed on different data items.\n",
    "- **Exception**: a type of error that can be predicted and handled without\n",
    "causing a program to crash.\n",
    "- **Code Block**: a collection of code that is interpreted together. Python\n",
    "groups code blocks by indentation level.\n",
    "- **Function**: a named code block that performs a sequence of actions when it\n",
    "is called.\n",
    "- **Scope**: the area in your program where a specific variable can be called.\n",
    "\n",
    "***\n",
    "\n",
    "## Introduction\n",
    "\n",
    "In this lesson, we'll show how to use control flow to run the same line(s) of\n",
    "code multiple times in a loop. Make sure to follow along by opening the Python shell\n",
    "and experimenting with the example code.\n",
    "\n",
    "***\n",
    "\n",
    "## Basic Loops in Python\n",
    "\n",
    "In Python, there are a few common approaches to control flow that will\n",
    "allow us to run the same lines of code over and over again. The most basic tool\n",
    "is the `while` loop."
   ]
  },
  {
   "cell_type": "code",
   "execution_count": 2,
   "metadata": {},
   "outputs": [
    {
     "name": "stdout",
     "output_type": "stream",
     "text": [
      "0 looping!\n",
      "1 looping!\n",
      "2 looping!\n",
      "3 looping!\n",
      "4 looping!\n"
     ]
    }
   ],
   "source": [
    "i = 0\n",
    "while i < 5:\n",
    "  print(f\"{i} looping!\")\n",
    "  i += 1"
   ]
  }
 ],
 "metadata": {
  "kernelspec": {
   "display_name": "Python 3",
   "language": "python",
   "name": "python3"
  },
  "language_info": {
   "codemirror_mode": {
    "name": "ipython",
    "version": 3
   },
   "file_extension": ".py",
   "mimetype": "text/x-python",
   "name": "python",
   "nbconvert_exporter": "python",
   "pygments_lexer": "ipython3",
   "version": "3.11.4"
  }
 },
 "nbformat": 4,
 "nbformat_minor": 2
}
